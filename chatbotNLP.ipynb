{
  "nbformat": 4,
  "nbformat_minor": 0,
  "metadata": {
    "colab": {
      "provenance": [],
      "authorship_tag": "ABX9TyOp50iPh0K4XheJ7xiMu/Wk",
      "include_colab_link": true
    },
    "kernelspec": {
      "name": "python3",
      "display_name": "Python 3"
    },
    "language_info": {
      "name": "python"
    }
  },
  "cells": [
    {
      "cell_type": "markdown",
      "metadata": {
        "id": "view-in-github",
        "colab_type": "text"
      },
      "source": [
        "<a href=\"https://colab.research.google.com/github/Amitt-44/projects/blob/main/chatbotNLP.ipynb\" target=\"_parent\"><img src=\"https://colab.research.google.com/assets/colab-badge.svg\" alt=\"Open In Colab\"/></a>"
      ]
    },
    {
      "cell_type": "code",
      "execution_count": 1,
      "metadata": {
        "id": "eBZi-Pvw3t6R"
      },
      "outputs": [],
      "source": [
        "from nltk.chat.util import Chat, reflections"
      ]
    },
    {
      "cell_type": "code",
      "source": [
        "#Pairs is a list of patterns and responses.\n",
        "pairs = [\n",
        "    [\n",
        "        r\"(.*)my name is (.*)\",\n",
        "        [\"Hello %2, How are you today ?\",]\n",
        "    ],\n",
        "    [\n",
        "        r\"(.*)help(.*) \",\n",
        "        [\"I can help you \",]\n",
        "    ],\n",
        "     [\n",
        "        r\"(.*) your name ?\",\n",
        "        [\"My name is chatt, but you can just call me robot and I'm a chatbot .\",]\n",
        "    ],\n",
        "    [\n",
        "        r\"how are you (.*) ?\",\n",
        "        [\"I'm doing very well\", \"i am great !\"]\n",
        "    ],\n",
        "    [\n",
        "        r\"sorry (.*)\",\n",
        "        [\"Its alright\",\"Its OK, never mind that\",]\n",
        "    ],\n",
        "    [\n",
        "        r\"i'm (.*) (good|well|okay|ok)\",\n",
        "        [\"Nice to hear that\",\"Alright, great !\",]\n",
        "    ],\n",
        "    [\n",
        "        r\"(hi|hey|hello|hola|holla)(.*)\",\n",
        "        [\"Hello\", \"Hey there\",]\n",
        "    ],\n",
        "    [\n",
        "        r\"what (.*) want ?\",\n",
        "        [\"Make me an offer I can't refuse\",]\n",
        "\n",
        "    ],\n",
        "    [\n",
        "        r\"(.*)created(.*)\",\n",
        "        [\"A created me using Python's NLTK library \",\"top secret ;)\",]\n",
        "    ],\n",
        "    [\n",
        "        r\"(.*) (location|city) ?\",\n",
        "        ['New Delhi, India',]\n",
        "    ],\n",
        "    [\n",
        "        r\"(.*)raining in (.*)\",\n",
        "        [\"No rain in the past 4 days here in %2\",\"In %2 there is a 50% chance of rain\",]\n",
        "    ],\n",
        "    [\n",
        "        r\"how (.*) health (.*)\",\n",
        "        [\"Health is very important, but I am a computer, so I don't need to worry about my health \",]\n",
        "    ],\n",
        "    [\n",
        "        r\"(.*)(sports|game|sport)(.*)\",\n",
        "        [\"I'm a very big fan of Cricket\",]\n",
        "    ],\n",
        "    [\n",
        "        r\"who (.*) (Cricketer|Batsman)?\",\n",
        "        [\"Virat Kohli\"]\n",
        "    ],\n",
        "    [\n",
        "        r\"quit\",\n",
        "        [\"Bye for now. See you soon :) \",\"It was nice talking to you. See you soon :)\"]\n",
        "    ],\n",
        "    [\n",
        "        r\"(.*)\",\n",
        "        ['That is nice to hear']\n",
        "    ],\n",
        "]"
      ],
      "metadata": {
        "id": "8iSbGO8736SG"
      },
      "execution_count": 7,
      "outputs": []
    },
    {
      "cell_type": "code",
      "source": [
        "#Output\n",
        "{'i am': 'you are',\n",
        "'i was': 'you were',\n",
        "'i': 'you',\n",
        "\"i'm\": 'you are',\n",
        "\"i'd\": 'you would',\n",
        "\"i've\": 'you have',\n",
        "\"i'll\": 'you will',\n",
        "'my': 'your',\n",
        "'you are': 'I am',\n",
        "'you were': 'I was',\n",
        "\"you've\": 'I have',\n",
        "\"you'll\": 'I will',\n",
        "'your': 'my',\n",
        "'yours': 'mine',\n",
        "'you': 'me',\n",
        "'me': 'you'}"
      ],
      "metadata": {
        "colab": {
          "base_uri": "https://localhost:8080/"
        },
        "id": "Efdfs8Vk3_8E",
        "outputId": "856168ba-929a-45d4-a0df-1d42026349c4"
      },
      "execution_count": 3,
      "outputs": [
        {
          "output_type": "execute_result",
          "data": {
            "text/plain": [
              "{'i am': 'you are',\n",
              " 'i was': 'you were',\n",
              " 'i': 'you',\n",
              " \"i'm\": 'you are',\n",
              " \"i'd\": 'you would',\n",
              " \"i've\": 'you have',\n",
              " \"i'll\": 'you will',\n",
              " 'my': 'your',\n",
              " 'you are': 'I am',\n",
              " 'you were': 'I was',\n",
              " \"you've\": 'I have',\n",
              " \"you'll\": 'I will',\n",
              " 'your': 'my',\n",
              " 'yours': 'mine',\n",
              " 'you': 'me',\n",
              " 'me': 'you'}"
            ]
          },
          "metadata": {},
          "execution_count": 3
        }
      ]
    },
    {
      "cell_type": "code",
      "source": [
        "my_dummy_reflections= {\n",
        "    \"go\"     : \"gone\",\n",
        "    \"hello\"    : \"hey there\"\n",
        "}"
      ],
      "metadata": {
        "id": "xDhRLfzl4Fhm"
      },
      "execution_count": 4,
      "outputs": []
    },
    {
      "cell_type": "code",
      "source": [
        "#default message at the start of chat\n",
        "print(\"Hi, I'm Amit and I like to chat\\nPlease type lowercase English language to start a conversation. Type quit to leave \")\n",
        "#Create Chat Bot\n",
        "chat = Chat(pairs, reflections)"
      ],
      "metadata": {
        "colab": {
          "base_uri": "https://localhost:8080/"
        },
        "id": "cuOh-aMo4I_P",
        "outputId": "5fbed582-712c-402f-946c-3cd1c9ba59cb"
      },
      "execution_count": 5,
      "outputs": [
        {
          "output_type": "stream",
          "name": "stdout",
          "text": [
            "Hi, I'm thecleverprogrammer and I like to chat\n",
            "Please type lowercase English language to start a conversation. Type quit to leave \n"
          ]
        }
      ]
    },
    {
      "cell_type": "code",
      "source": [
        "#Start conversation\n",
        "chat.converse()"
      ],
      "metadata": {
        "id": "EDQqLJS84Ofu"
      },
      "execution_count": null,
      "outputs": []
    }
  ]
}
